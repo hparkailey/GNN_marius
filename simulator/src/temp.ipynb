{
 "cells": [
  {
   "cell_type": "code",
   "execution_count": 6,
   "metadata": {},
   "outputs": [
    {
     "name": "stderr",
     "output_type": "stream",
     "text": [
      "2024-04-12 13:39:51.663887: I tensorflow/core/platform/cpu_feature_guard.cc:210] This TensorFlow binary is optimized to use available CPU instructions in performance-critical operations.\n",
      "To enable the following instructions: AVX2 FMA, in other operations, rebuild TensorFlow with the appropriate compiler flags.\n",
      "2024-04-12 13:39:52.349953: W tensorflow/compiler/tf2tensorrt/utils/py_utils.cc:38] TF-TRT Warning: Could not find TensorRT\n"
     ]
    }
   ],
   "source": [
    "from itertools import groupby \n",
    "import torch\n",
    "import numpy as np\n",
    "import tensorflow as tf "
   ]
  },
  {
   "cell_type": "code",
   "execution_count": 7,
   "metadata": {},
   "outputs": [
    {
     "data": {
      "text/plain": [
       "<tf.Tensor: shape=(11, 2), dtype=int64, numpy=\n",
       "array([[0, 1],\n",
       "       [0, 2],\n",
       "       [0, 4],\n",
       "       [1, 2],\n",
       "       [1, 3],\n",
       "       [2, 3],\n",
       "       [2, 4],\n",
       "       [3, 5],\n",
       "       [3, 6],\n",
       "       [4, 5],\n",
       "       [5, 6]])>"
      ]
     },
     "execution_count": 7,
     "metadata": {},
     "output_type": "execute_result"
    }
   ],
   "source": [
    "edge_list = tf.convert_to_tensor(np.array([[0, 1],\n",
    "        [0, 2],\n",
    "        [0, 4],\n",
    "        [1, 2],\n",
    "        [1, 3],\n",
    "        [2, 3],\n",
    "        [2, 4],\n",
    "        [3, 5],\n",
    "        [3, 6],\n",
    "        [4, 5],\n",
    "        [5, 6]]))\n",
    "edge_list"
   ]
  },
  {
   "cell_type": "code",
   "execution_count": 20,
   "metadata": {},
   "outputs": [
    {
     "data": {
      "text/plain": [
       "array([[0, 1],\n",
       "       [0, 2],\n",
       "       [0, 4],\n",
       "       [1, 2],\n",
       "       [1, 3],\n",
       "       [2, 3],\n",
       "       [2, 4],\n",
       "       [3, 5],\n",
       "       [3, 6],\n",
       "       [4, 5],\n",
       "       [5, 6]])"
      ]
     },
     "execution_count": 20,
     "metadata": {},
     "output_type": "execute_result"
    }
   ],
   "source": [
    "np.array(edge_list)"
   ]
  },
  {
   "cell_type": "code",
   "execution_count": 42,
   "metadata": {},
   "outputs": [
    {
     "data": {
      "text/plain": [
       "[[1, 2, 4],\n",
       " [2, 3, 0],\n",
       " [3, 4, 0, 1],\n",
       " [5, 6, 1, 2],\n",
       " [5, 0, 2],\n",
       " [6, 3, 4],\n",
       " [3, 5]]"
      ]
     },
     "execution_count": 42,
     "metadata": {},
     "output_type": "execute_result"
    }
   ],
   "source": [
    "\n",
    "duplicated_edge_list = np.vstack([edge_list, edge_list[:, ::-1]])\n",
    "adj_dict={}\n",
    "for k,g in groupby(np.array(duplicated_edge_list), lambda e: e[0]):\n",
    "    if k not in adj_dict:\n",
    "        adj_dict[k]=[]\n",
    "    adj_dict[k].extend([pair[1] for pair in g])\n",
    "\n",
    "adj_list = [nodes for nodes in adj_dict.values()]\n",
    "adj_list"
   ]
  }
 ],
 "metadata": {
  "interpreter": {
   "hash": "31f2aee4e71d21fbe5cf8b01ff0e069b9275f58929596ceb00d14d90e3e16cd6"
  },
  "kernelspec": {
   "display_name": "Python 3.10.12 64-bit",
   "language": "python",
   "name": "python3"
  },
  "language_info": {
   "codemirror_mode": {
    "name": "ipython",
    "version": 3
   },
   "file_extension": ".py",
   "mimetype": "text/x-python",
   "name": "python",
   "nbconvert_exporter": "python",
   "pygments_lexer": "ipython3",
   "version": "3.10.12"
  },
  "orig_nbformat": 4
 },
 "nbformat": 4,
 "nbformat_minor": 2
}
